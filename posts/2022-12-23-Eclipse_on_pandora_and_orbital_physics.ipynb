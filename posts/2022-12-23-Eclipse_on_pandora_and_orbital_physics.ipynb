{
 "cells": [
  {
   "attachments": {},
   "cell_type": "markdown",
   "metadata": {},
   "source": [
    "---\n",
    "title: Eclipse on Pandora and the Orbital Physics in Avatar\n",
    "author: ziyue li\n",
    "categories:\n",
    "- Physics\n",
    "date: '2022-12-23'\n",
    "description: A physics study of eclipse by a gas giant seen from its moon.\n",
    "draft: false\n",
    "image: images/2022/pandora_night.jpg\n",
    "toc: true\n",
    "format:\n",
    "  html:\n",
    "    number-sections: false\n",
    "execute:\n",
    "  echo: false\n",
    "  eval: false\n",
    "  output: false\n",
    "  freeze: true\n",
    "---"
   ]
  },
  {
   "attachments": {},
   "cell_type": "markdown",
   "metadata": {},
   "source": [
    "# Eclipse on Pandora\n",
    "\n",
    "After watching [Avatar: The Way of Water](https://en.wikipedia.org/wiki/Avatar:_The_Way_of_Water), I'm quite intrigued by the eclipse in the movie.\n",
    "The sun is blocked by the gas giant for what appears to be a couple of hours, which seems to make sense if you assume that the sun travels across the sky in a similar amount of time as what we experience on Earth. \n",
    "\n",
    "However, on a deeper thought, the situation here is more complicated than that.\n",
    "\n",
    "The fact that we have sunrise and sunset on Earth is because of the Earth's rotation, and the eclipse only lasts a short while because the moon is very small in the sky, and its shadow does not cover the whole Earth. \n",
    "\n",
    "But on Pandora, the gas giant it's orbiting around is much bigger, and if we use Jupiter and its moons as a reference, then the shadow of the gas giant is probably bigger than Pandora.\n",
    "In that case, the spinning of Pandora does not get it out of the \"shadow zone\".\n",
    "It can only get out of the shadow when Pandora travels across the gas giant's shadow.\n",
    "\n",
    "So now the question is, in this case, is it possible that the Eclipse only lasts a few hours?\n",
    "Here's my analysis of this system, with some of the simplest assumptions "
   ]
  },
  {
   "attachments": {},
   "cell_type": "markdown",
   "metadata": {},
   "source": [
    "# Orbital Period\n",
    "\n",
    "From the balance of centripetal force and gravitational force:\n",
    "$$m\\frac{v^2}{r}=G\\frac{mM}{r^2}$$\n",
    "\n",
    "we have the velocity of the planet Pandora around the gas giant:\n",
    "$$v=\\sqrt{\\frac{GM}{r}}$$\n",
    "\n",
    "Therefore the period of the orbit is\n",
    "$$T=2\\pi r/v=2\\pi\\sqrt{\\frac{r^3}{GM}}$$\n",
    "\n",
    "We don't know the mass of the gas giant in the movie, but we do have reference for how big the gas giant looks like from Pandora, which gives us an estimate of the ratio of the size of the gas giant to the distance between Pandora and the gas giant, as will be explained below.\n",
    "\n",
    "So we rewrite the mass as a function of the gas giant's size: $M=4\\pi R^3/3*\\rho$, and get\n",
    "$$T=2\\pi \\sqrt{\\frac{r^3}{R^3}}\\sqrt{\\frac{3}{4\\pi G \\rho}}$$\n",
    "\n",
    "Besides the ratio of $r/R$, it only depends on the density of the Gas Giant. \n"
   ]
  },
  {
   "attachments": {},
   "cell_type": "markdown",
   "metadata": {},
   "source": [
    "- Estimation of $r/R$\n",
    "\n",
    "  The arc length extended by the gas giant in Pandora's sky is approximately its diameter $2R$ (we are only doing estimations here).\n",
    "  Dividing that by half the circumference of the orbit gives us the ratio of the angular size $\\delta$ to $\\pi$:\n",
    "  $$\\frac{\\delta}{\\pi}\\approx\\frac{2R}{\\pi r},$$\n",
    "\n",
    "  From some shots in the movie, we can get a sense of how big the gas giant looks like from Pandora.\n",
    "\n",
    "  ![](images/2022/angular_size_measurement.jpg){fig-align=\"center\"}\n",
    "\n",
    "  In the shot above, if we take the smaller planet (circled) as having the same angular size as the sun seen from the Earth ($0.53^{\\circ}$), then a rough measurement shows that the apparent size of the gas giant is about 22 times\n",
    "  $$\\delta = 22 * 0.53^{\\circ} \\approx 11^{\\circ} \\approx \\frac{\\pi}{18} $$\n",
    "\n",
    "\n",
    "  To get better estimation, let's take a range.\n",
    "  Let's say that that the gas giants fills up $\\frac{1}{18}$ to $\\frac{1}{9}$ of the sky, i.e. $\\frac{1}{18}\\lt\\delta/\\pi\\lt\\frac{1}{9}$, then we have \n",
    "  $$\\frac{1}{11.5} \\approx \\frac{\\pi}{2}\\frac{1}{18} \\lesssim \\frac{R}{r}\\lesssim \\frac{\\pi}{2}\\frac{1}{9} \\approx \\frac{1}{5.7}$$\n",
    "  or \n",
    "  $$5.7 \\lesssim \\frac{r}{R}\\lesssim 11.4.$$\n",
    "\n",
    "\n",
    "- Density of the Gas Giant \n",
    "\n",
    "  The density of gas giants in solar system ranges from $687$ to $1640$ $kg/m^3$. Using them as our reference, we have\n",
    "\n",
    "  $$0.41 \\text{ h} \\lt \\sqrt{\\frac{3}{4\\pi G \\rho}} \\lt 0.634 \\text{ h}$$\n"
   ]
  },
  {
   "cell_type": "code",
   "execution_count": 37,
   "metadata": {},
   "outputs": [
    {
     "name": "stdout",
     "output_type": "stream",
     "text": [
      "0.41024015670704667 0.45554813494669344\n",
      "35.07763633538208 110.17204689587037\n"
     ]
    }
   ],
   "source": [
    "import math\n",
    "\n",
    "G = 6.674 * 10**-11\n",
    "rho_min = 1330\n",
    "rho_max = 1640\n",
    "rt_min = 5.7\n",
    "rt_max = 11.4\n",
    "\n",
    "x = lambda 𝜌: (3/(4 * math.pi * G * 𝜌))**0.5 / 3600\n",
    "print(x(rho_max), x(rho_min))\n",
    "\n",
    "a = lambda rt: 2*math.pi*(rt**3)**0.5\n",
    "print(x(rho_max)*a(rt_min), x(rho_min)*a(rt_max))"
   ]
  },
  {
   "attachments": {},
   "cell_type": "markdown",
   "metadata": {},
   "source": [
    "Plugging in our estimations for the density $\\rho$ and $R/r$, we then have the orbital period of Pandora around the gas giant:\n",
    "$$ 19 \\text{ h}\\lesssim T=2\\pi \\sqrt{\\frac{r^3}{R^3}}\\sqrt{\\frac{3}{4\\pi G \\rho}} \\lesssim 153 \\text{ h}$$"
   ]
  },
  {
   "attachments": {},
   "cell_type": "markdown",
   "metadata": {},
   "source": [
    "# Eclipse Duration\n",
    "\n",
    "![](images/2022/eclipse.svg){fig-align=\"center\" width=60%}\n",
    "\n",
    "With the simplest assumption that Pandora's orbit plane lines up with the gas giant's orbit plane around its sun, Pandora will pass through the whole diameter of the gas giant's shadow.\n",
    "We can also assume that the shadow size is almost the same as the size of the gas giant itself (some reasoning and justification about this are given in the [Appendix](#appendix)).\n",
    "That means the eclipse duration is the amount of time Pandora spends traveling through the part of the orbit that's covered in the shadow, the distance of which we approximate as $2R$:\n",
    "$$t_{eclipse} = \\frac{l}{2\\pi r} T \\approx \\frac{2R}{2\\pi r} T = 2 \\sqrt{\\frac{r}{R}}\\sqrt{\\frac{3}{4\\pi G \\rho}}$$"
   ]
  },
  {
   "cell_type": "code",
   "execution_count": 38,
   "metadata": {},
   "outputs": [
    {
     "name": "stdout",
     "output_type": "stream",
     "text": [
      "0.41024015670704667 0.45554813494669344\n",
      "1.599410575762314 3.076215062110504\n"
     ]
    }
   ],
   "source": [
    "import math\n",
    "\n",
    "G = 6.674 * 10**-11\n",
    "rho_min = 1330\n",
    "rho_max = 1640\n",
    "rt_min = 3.8\n",
    "rt_max = 11.4\n",
    "\n",
    "x = lambda 𝜌: (3/(4 * math.pi * G * 𝜌))**0.5 / 3600\n",
    "print(x(rho_max), x(rho_min))\n",
    "\n",
    "a = lambda rt: 2*rt**0.5\n",
    "print(x(rho_max)*a(rt_min), x(rho_min)*a(rt_max))"
   ]
  },
  {
   "attachments": {},
   "cell_type": "markdown",
   "metadata": {},
   "source": [
    "Plugging in the ranges of values for density and $R/r$, we get\n",
    "$$1.6 \\text{ h} \\lesssim t_{eclipse} \\lesssim 4.3 \\text{ h}$$\n",
    "\n",
    "This seems a reasonable amount of time for the actions that happened during the eclipse in the movie."
   ]
  },
  {
   "attachments": {},
   "cell_type": "markdown",
   "metadata": {},
   "source": [
    "# Information on Astronomy of Pandora\n",
    "\n",
    "I later searched online about the world building of Pandora, and found that there's actually a good amount of information about the astronomy of the system.\n",
    "For example, the [Alpha_Centauri_System](https://james-camerons-avatar.fandom.com/wiki/Alpha_Centauri_System), the [Day-Night Cycle](https://james-camerons-avatar.fandom.com/wiki/Pandora#Day-Night_Cycle) of Pandora, and some information about the gas giant [Polyphemus](https://james-camerons-avatar.fandom.com/wiki/Polyphemus) where it's mentioned that the gas giant is \"slightly smaller and denser than Jupiter\".\n",
    "\n",
    "With that information, we can change our lower estimate of the gas giant's density to $\\rho=1330 kg/m^3$, which updates the upper limit of the orbital period to \n",
    "$$T \\lesssim 110 \\text{ h}$$\n",
    "and the upper limit for eclipse time to \n",
    "$$t_{eclipse} \\lesssim 3 \\text{ h}$$"
   ]
  },
  {
   "attachments": {},
   "cell_type": "markdown",
   "metadata": {},
   "source": [
    "# Rotation of Pandora\n",
    "\n",
    "If Pandora is like the moons of Jupiter, than it will be tidal-locked, and rotates synchronously, with the day equals the period of its orbit around the gas giant.\n",
    "From our estimation of the period $T$, we have the day on Pandora is between **19** and **110** hours.\n",
    "The lower end of this estimation is probably more realistic."
   ]
  },
  {
   "attachments": {},
   "cell_type": "markdown",
   "metadata": {},
   "source": [
    "# Appendix\n",
    "## Shadow Size of the Gas Giant\n",
    "\n",
    "![](images/2022/shadow_length.svg){fig-align=center}"
   ]
  },
  {
   "attachments": {},
   "cell_type": "markdown",
   "metadata": {},
   "source": [
    "If the sun for the gas giant and Pandora have a similar apparent size in the sky as our sun, then the ratio of its radius $R_s$ to its distance $D$ is about: \n",
    "$$\\frac{R_s}{D}\\approx\\tan(0.53^{\\circ}) \\approx \\frac{1}{100}$$\n",
    "\n",
    "With similar triangles, we have\n",
    "$$d = \\frac{DR}{R_s-R} \\approx \\frac{100R_sR}{R_s-R}$$\n",
    "\n",
    "We now do an order-of-magnitude estimation.\n",
    "Assuming that the sun is at least about 10 times bigger than the gas giant (you can get to this conclusion by looking up the size of Jupiter, our sun, Alpha Centauri A and use the fact that the gas giant here is smaller than Jupiter), we have $R_s/(R_s-R)\\approx 1$ and\n",
    "$$d \\approx 100R $$\n",
    "\n",
    "Using similar triangles again, we have the shadow radius\n",
    "$$R_{shadow} = (d-r)R/d $$\n",
    "\n",
    "We've estimated that Pandora's orbit radius around the gas giant $r \\lesssim 11.4 R$, an order of magnitude less than $d$, so the shadow radius\n",
    "$$R_{shadow} \\approx R$$"
   ]
  },
  {
   "cell_type": "markdown",
   "metadata": {},
   "source": []
  }
 ],
 "metadata": {
  "kernelspec": {
   "display_name": "py37",
   "language": "python",
   "name": "python3"
  },
  "language_info": {
   "codemirror_mode": {
    "name": "ipython",
    "version": 3
   },
   "file_extension": ".py",
   "mimetype": "text/x-python",
   "name": "python",
   "nbconvert_exporter": "python",
   "pygments_lexer": "ipython3",
   "version": "3.7.7"
  },
  "orig_nbformat": 4,
  "vscode": {
   "interpreter": {
    "hash": "c219fd2dbeaa4e9535be7cfc7017bd293d39edc4e36f3c15c6a938a3af119eb1"
   }
  }
 },
 "nbformat": 4,
 "nbformat_minor": 2
}
