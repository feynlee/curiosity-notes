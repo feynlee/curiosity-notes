{
 "cells": [
  {
   "attachments": {},
   "cell_type": "markdown",
   "metadata": {},
   "source": [
    "---\n",
    "title: \"Subtle Bug: Variable Shadows Function\"\n",
    "author: Ziyue Li\n",
    "categories:\n",
    "- Python\n",
    "date: 2023-04-02\n",
    "description: If we assign a variable with the same name as a function, even in a conditional statement, the function will be shadowed.\n",
    "image: https://pbs.twimg.com/media/FstnXFoXgAAT4ek?format=jpg&name=medium\n",
    "layout: post\n",
    "execute:\n",
    "    echo: true\n",
    "    eval: true\n",
    "---"
   ]
  },
  {
   "attachments": {},
   "cell_type": "markdown",
   "metadata": {},
   "source": [
    "Here's an example:"
   ]
  },
  {
   "cell_type": "code",
   "execution_count": 4,
   "metadata": {},
   "outputs": [
    {
     "ename": "UnboundLocalError",
     "evalue": "cannot access local variable 'func' where it is not associated with a value",
     "output_type": "error",
     "traceback": [
      "\u001b[0;31m---------------------------------------------------------------------------\u001b[0m",
      "\u001b[0;31mUnboundLocalError\u001b[0m                         Traceback (most recent call last)",
      "Cell \u001b[0;32mIn[4], line 11\u001b[0m\n\u001b[1;32m      7\u001b[0m         func \u001b[39m=\u001b[39m func2\n\u001b[1;32m      8\u001b[0m     \u001b[39mreturn\u001b[39;00m func\n\u001b[0;32m---> 11\u001b[0m test(\u001b[39m0\u001b[39;49m)\n",
      "Cell \u001b[0;32mIn[4], line 8\u001b[0m, in \u001b[0;36mtest\u001b[0;34m(x)\u001b[0m\n\u001b[1;32m      6\u001b[0m \u001b[39mif\u001b[39;00m x \u001b[39m>\u001b[39m\u001b[39m0\u001b[39m:\n\u001b[1;32m      7\u001b[0m     func \u001b[39m=\u001b[39m func2\n\u001b[0;32m----> 8\u001b[0m \u001b[39mreturn\u001b[39;00m func\n",
      "\u001b[0;31mUnboundLocalError\u001b[0m: cannot access local variable 'func' where it is not associated with a value"
     ]
    }
   ],
   "source": [
    "def func(): pass\n",
    "\n",
    "def func2(): pass\n",
    "\n",
    "def test(x):\n",
    "    if x >0:\n",
    "        func = func2\n",
    "    return func\n",
    "\n",
    "\n",
    "test(0)"
   ]
  },
  {
   "attachments": {},
   "cell_type": "markdown",
   "metadata": {},
   "source": [
    "In the function `test`, `func` is a new variable that gets assigned `func2` if `x` is positive.\n",
    "It shadows the function `func` defined outside of the `test` function. \n",
    "So when `x=0`, the `func` is treated as a variable which is not defined, and the function `func` is not called.\n",
    "\n",
    "`func` does not fall back to the function `func` defined outside of the `test` function.\n",
    "\n",
    "This is a subtle bug that can be hard to find.\n",
    "\n",
    "We need to remember that if the same name is used for a variable inside the function, we have to continue to treat it as a variable in the function, even if it's inside a branched `if` statement.\n",
    "\n",
    "To fix this, we can either directly return the function `func` or `func2` in the `test` function, or we can use a different name for the variable."
   ]
  },
  {
   "cell_type": "code",
   "execution_count": 5,
   "metadata": {},
   "outputs": [
    {
     "data": {
      "text/plain": [
       "<function __main__.func()>"
      ]
     },
     "execution_count": 5,
     "metadata": {},
     "output_type": "execute_result"
    }
   ],
   "source": [
    "def func(): pass\n",
    "\n",
    "def func2(): pass\n",
    "\n",
    "def test(x):\n",
    "    if x >0:\n",
    "        return func2\n",
    "    else:\n",
    "        return func\n",
    "\n",
    "\n",
    "test(0)"
   ]
  },
  {
   "cell_type": "code",
   "execution_count": 6,
   "metadata": {},
   "outputs": [
    {
     "data": {
      "text/plain": [
       "<function __main__.func()>"
      ]
     },
     "execution_count": 6,
     "metadata": {},
     "output_type": "execute_result"
    }
   ],
   "source": [
    "\n",
    "def func(): pass\n",
    "\n",
    "def func2(): pass\n",
    "\n",
    "def test(x):\n",
    "    if x >0:\n",
    "        f =  func2\n",
    "    else:\n",
    "        f = func\n",
    "    return f\n",
    "\n",
    "\n",
    "test(0)"
   ]
  },
  {
   "attachments": {},
   "cell_type": "markdown",
   "metadata": {},
   "source": [
    "{{< tweet curiosity_notes 1642520651926761474 >}}"
   ]
  }
 ],
 "metadata": {
  "kernelspec": {
   "display_name": "Python 3",
   "language": "python",
   "name": "python3"
  },
  "language_info": {
   "codemirror_mode": {
    "name": "ipython",
    "version": 3
   },
   "file_extension": ".py",
   "mimetype": "text/x-python",
   "name": "python",
   "nbconvert_exporter": "python",
   "pygments_lexer": "ipython3",
   "version": "3.11.2"
  },
  "orig_nbformat": 4
 },
 "nbformat": 4,
 "nbformat_minor": 2
}
