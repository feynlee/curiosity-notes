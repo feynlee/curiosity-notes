{
 "cells": [
  {
   "cell_type": "markdown",
   "metadata": {},
   "source": [
    "---\n",
    "title: \"Incorporating Google Admob in SwiftUI\"\n",
    "author: Ziyue Li\n",
    "categories:\n",
    "- Swift\n",
    "- iOS\n",
    "date: 2023-10-30\n",
    "description: Resources for incorporating Google Admob in SwiftUI.\n",
    "image: images/admob_appdelegate.png\n",
    "layout: post\n",
    "execute:\n",
    "    echo: true\n",
    "    eval: true\n",
    "---"
   ]
  },
  {
   "cell_type": "markdown",
   "metadata": {},
   "source": [
    "Resources for incorporating Google Admob in SwiftUI:\n",
    "\n",
    "1. [Guide](https://developers.google.com/admob/ios/swiftui)\n",
    "2. [Sample Code](https://github.com/googleads/googleads-mobile-ios-examples/tree/main/Swift/advanced/SwiftUIDemo/SwiftUIDemo)\n",
    "3. [App Privacy](https://levelup.gitconnected.com/filling-out-the-app-privacy-section-in-app-store-connect-for-admob-users-bca0768ad86e)"
   ]
  },
  {
   "cell_type": "markdown",
   "metadata": {},
   "source": [
    "{{< tweet curiosity_notes 1719081539248476289 >}}"
   ]
  }
 ],
 "metadata": {
  "language_info": {
   "name": "python"
  }
 },
 "nbformat": 4,
 "nbformat_minor": 2
}
