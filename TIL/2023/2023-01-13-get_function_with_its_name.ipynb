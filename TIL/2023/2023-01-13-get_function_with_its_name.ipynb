{
 "cells": [
  {
   "attachments": {},
   "cell_type": "markdown",
   "metadata": {},
   "source": [
    "---\n",
    "title: Get Function from Modules Using Its Name\n",
    "author: Ziyue Li\n",
    "categories:\n",
    "- Python\n",
    "date: 2023-01-19\n",
    "description: How to get the function defined in the current module using its name.\n",
    "image: https://pbs.twimg.com/media/Fm3PmEyWQBoc-2a?format=jpg&name=large\n",
    "layout: post\n",
    "execute:\n",
    "    echo: true\n",
    "    eval: false\n",
    "    freeze: true\n",
    "---"
   ]
  },
  {
   "attachments": {},
   "cell_type": "markdown",
   "metadata": {},
   "source": [
    "Sometimes we need to obtain a function defined in a certain module using its name.\n",
    "If the function you are calling is defined in the same module, we can use `globals()` or `locals()`:\n",
    "\n",
    "- `globals()` returns a dictionary with the global symbol table:\n",
    "\n",
    "  ```python\n",
    "  func = globals()[\"func_name\"]\n",
    "  ```\n",
    "\n",
    "- `locals()` returns a dictionary with the current local symbol table:\n",
    "\n",
    "  ```python\n",
    "  func = locals()[\"func_name\"]\n",
    "  ```"
   ]
  },
  {
   "cell_type": "code",
   "execution_count": 7,
   "metadata": {},
   "outputs": [],
   "source": [
    "def demo_func(*args, **kwargs):\n",
    "    pass\n",
    "\n",
    "\n",
    "def test_locals(*args, **kwargs):\n",
    "    \"Test whether we can get the local functions using locals()\"\n",
    "    def local_demo_func(self, *args, **kwargs):\n",
    "        pass\n",
    "\n",
    "    return locals()['local_demo_func'] == local_demo_func\n",
    "\n",
    "\n",
    "# `globals()` returns a dictionary with the global symbol table:\n",
    "assert globals()['demo_func'] == demo_func\n",
    "# `locals()` returns a dictionary with the current local symbol table\n",
    "assert test_locals()"
   ]
  },
  {
   "attachments": {},
   "cell_type": "markdown",
   "metadata": {},
   "source": [
    "If it's defined another module, we can simply do\n",
    "\n",
    "```python\n",
    "import foo\n",
    "\n",
    "func = getattr(foo, 'demo_func')\n",
    "```\n",
    "\n",
    "For example:"
   ]
  },
  {
   "cell_type": "code",
   "execution_count": 14,
   "metadata": {},
   "outputs": [],
   "source": [
    "from datetime import date\n",
    "\n",
    "assert getattr(date, 'today') == date.today"
   ]
  },
  {
   "cell_type": "markdown",
   "metadata": {},
   "source": [
    "{{< tweet curiosity_notes 1616176774919897095 >}}"
   ]
  }
 ],
 "metadata": {
  "kernelspec": {
   "display_name": "py39",
   "language": "python",
   "name": "python3"
  },
  "language_info": {
   "codemirror_mode": {
    "name": "ipython",
    "version": 3
   },
   "file_extension": ".py",
   "mimetype": "text/x-python",
   "name": "python",
   "nbconvert_exporter": "python",
   "pygments_lexer": "ipython3",
   "version": "3.9.15"
  },
  "orig_nbformat": 4,
  "vscode": {
   "interpreter": {
    "hash": "b0f661b78aee5cc3735e5b3a3edffbc8ca5de61efa494fc5574addaa723d8b3e"
   }
  }
 },
 "nbformat": 4,
 "nbformat_minor": 2
}
