{
 "cells": [
  {
   "attachments": {},
   "cell_type": "markdown",
   "metadata": {},
   "source": [
    "---\n",
    "title: $() in Bash vs in Zsh\n",
    "author: Ziyue Li\n",
    "categories:\n",
    "- Command Line\n",
    "date: 2023-01-03\n",
    "description: $() concatenates the results into one single line in bash, but not in zsh.\n",
    "# image: \n",
    "layout: post\n",
    "execute:\n",
    "    echo: true\n",
    "    eval: false\n",
    "    freeze: true\n",
    "---"
   ]
  },
  {
   "attachments": {},
   "cell_type": "markdown",
   "metadata": {},
   "source": [
    "A simple learning today: when using `$()` in Bash, it concatenates the outputs into one single line, while in Zsh, it does not seem to do so.\n",
    "\n",
    "In bash\n",
    "```sh\n",
    "files=$(ls)\n",
    "echo $files\n",
    "```\n",
    "\n",
    "outputs something like\n",
    "```sh\n",
    "file1.md file2.md file3.md\n",
    "```\n",
    "\n",
    "But when the same commands are executed in Zsh, I got \n",
    "```sh\n",
    "file1.md\n",
    "file2.md\n",
    "file3.md\n",
    "```\n",
    "with the line breaks preserved."
   ]
  },
  {
   "attachments": {},
   "cell_type": "markdown",
   "metadata": {},
   "source": [
    "{{< tweet curiosity_notes 1610438401597050881 >}}"
   ]
  }
 ],
 "metadata": {
  "kernelspec": {
   "display_name": "py37",
   "language": "python",
   "name": "python3"
  },
  "language_info": {
   "codemirror_mode": {
    "name": "ipython",
    "version": 3
   },
   "file_extension": ".py",
   "mimetype": "text/x-python",
   "name": "python",
   "nbconvert_exporter": "python",
   "pygments_lexer": "ipython3",
   "version": "3.7.7"
  },
  "orig_nbformat": 4,
  "vscode": {
   "interpreter": {
    "hash": "c219fd2dbeaa4e9535be7cfc7017bd293d39edc4e36f3c15c6a938a3af119eb1"
   }
  }
 },
 "nbformat": 4,
 "nbformat_minor": 2
}
