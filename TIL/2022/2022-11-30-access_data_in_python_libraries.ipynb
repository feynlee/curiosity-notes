{
 "cells": [
  {
   "cell_type": "markdown",
   "metadata": {},
   "source": [
    "---\n",
    "title: Access Data in Installed Python Package\n",
    "author: Ziyue Li\n",
    "categories:\n",
    "- Python\n",
    "date: 2022-11-30\n",
    "description: How to access data files in installed python packages.\n",
    "image: https://pbs.twimg.com/media/Fg7CS9wX0AA46sf?format=png&name=900x900\n",
    "layout: post\n",
    "execute:\n",
    "    echo: true\n",
    "    eval: false\n",
    "    freeze: true\n",
    "---"
   ]
  },
  {
   "cell_type": "markdown",
   "metadata": {},
   "source": [
    "For a python package structured as the following:\n",
    "\n",
    "```yml\n",
    "setup.py\n",
    "src/\n",
    "  mypkg/\n",
    "    __init__.py\n",
    "      module.py\n",
    "      data/\n",
    "        tables.csv\n",
    "```\n",
    "\n",
    "we can include the data in the package by\n",
    "```python\n",
    "setup(...,\n",
    "      packages=['mypkg'],\n",
    "      package_dir={'mypkg': 'src/mypkg'},\n",
    "      package_data={'mypkg': ['data/*']},\n",
    "     )\n",
    "```\n",
    "in `setup.py`.\n",
    "\n",
    "If we need to access the data files in other parts of this package, we can do\n",
    "```python\n",
    "import pkg_resources\n",
    "\n",
    "DATA_PATH = pkg_resources.resource_filename('mypkg', 'data/')\n",
    "TABLE_PATH = pkg_resources.resource_filename('mypkg', 'data/tables.csv')\n",
    "```\n",
    "This makes sure to get the path to the data included in the package after installation."
   ]
  },
  {
   "cell_type": "markdown",
   "metadata": {},
   "source": [
    "{{< tweet curiosity_notes 1598087158417752064 >}}"
   ]
  },
  {
   "cell_type": "markdown",
   "metadata": {},
   "source": []
  }
 ],
 "metadata": {
  "kernelspec": {
   "display_name": "Python 3.7.7 ('py37')",
   "language": "python",
   "name": "python3"
  },
  "language_info": {
   "name": "python",
   "version": "3.7.7"
  },
  "orig_nbformat": 4,
  "vscode": {
   "interpreter": {
    "hash": "c219fd2dbeaa4e9535be7cfc7017bd293d39edc4e36f3c15c6a938a3af119eb1"
   }
  }
 },
 "nbformat": 4,
 "nbformat_minor": 2
}
