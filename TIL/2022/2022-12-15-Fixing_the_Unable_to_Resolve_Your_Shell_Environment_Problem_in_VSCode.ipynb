{
 "cells": [
  {
   "attachments": {},
   "cell_type": "markdown",
   "metadata": {},
   "source": [
    "---\n",
    "title: Fixing the \"Unable to Resolve Your Shell Environment\" Problem in VSCode\n",
    "author: Ziyue Li\n",
    "categories:\n",
    "- VSCode\n",
    "- IDE\n",
    "- Zsh\n",
    "date: 2022-12-15\n",
    "description: How to fix the **\"unable to resolve your shell environment in a reasonable time\"** problem in VSCode.\n",
    "image: https://code.visualstudio.com/assets/docs/supporting/faq/shell-env-error.png\n",
    "layout: post\n",
    "execute:\n",
    "  echo: true\n",
    "  eval: false\n",
    "  freeze: true\n",
    "---"
   ]
  },
  {
   "attachments": {},
   "cell_type": "markdown",
   "metadata": {},
   "source": [
    "You've probably come across this notification in VSCode:\n",
    "\n",
    "![](https://code.visualstudio.com/assets/docs/supporting/faq/shell-env-error.png){fig-align=\"center\"}\n",
    "\n",
    "It means that the shell environment defined in your `.bashrc` or `.zshrc` files is not resolved in a short amount of time.\n",
    "See detailed explanation [here](https://code.visualstudio.com/docs/supporting/faq#_resolving-shell-environment-fails).\n",
    "\n",
    "Unfortunately, VSCode does not have an option to customize or disable that time limit.\n",
    "So to make it work, we need to remove some lines that are taking long from our `.zshrc` for VSCode.\n",
    "\n",
    "Here's a simple example of not sourcing `oh-my-zsh.sh` when using VSCode:\n",
    "\n",
    "```zsh\n",
    "# In .zshrc\n",
    "if [[ \"${TERM_PROGRAM}\" != \"vscode\" ]]; then\n",
    "  plugins=(git zsh-autosuggestions zsh-syntax-highlighting)\n",
    "  source $ZSH/oh-my-zsh.sh\n",
    "fi\n",
    "```\n",
    "\n",
    "If you need to add this `if` statement at multiple places, you may want to simply create a separate `.zshrc-vscode` file and source that when using VSCode:\n",
    "\n",
    "```zsh\n",
    "# In .zshrc\n",
    "if [[ \"${TERM_PROGRAM}\" = \"vscode\" ]]; then\n",
    "\tsource ~/.zshrc-vscode\n",
    "else\n",
    "\tsource ~/.zshrc-g\n",
    "fi\n",
    "```"
   ]
  },
  {
   "attachments": {},
   "cell_type": "markdown",
   "metadata": {},
   "source": [
    "{{< tweet curiosity_notes 1603912405230227457 >}}"
   ]
  },
  {
   "cell_type": "markdown",
   "metadata": {},
   "source": []
  }
 ],
 "metadata": {
  "kernelspec": {
   "display_name": "py37",
   "language": "python",
   "name": "python3"
  },
  "language_info": {
   "name": "python",
   "version": "3.7.7 (default, Mar 23 2020, 17:31:31) \n[Clang 4.0.1 (tags/RELEASE_401/final)]"
  },
  "orig_nbformat": 4,
  "vscode": {
   "interpreter": {
    "hash": "c219fd2dbeaa4e9535be7cfc7017bd293d39edc4e36f3c15c6a938a3af119eb1"
   }
  }
 },
 "nbformat": 4,
 "nbformat_minor": 2
}
