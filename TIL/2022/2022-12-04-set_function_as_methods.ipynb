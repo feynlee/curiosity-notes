{
 "cells": [
  {
   "cell_type": "markdown",
   "metadata": {},
   "source": [
    "---\n",
    "title: How to Set Function as Methods\n",
    "author: Ziyue Li\n",
    "categories:\n",
    "- Python\n",
    "date: 2022-12-04\n",
    "description: How to set a function as bound method, class method and property.\n",
    "image: https://pbs.twimg.com/media/FjLA82uWAAQuJpu?format=jpg&name=large\n",
    "layout: post\n",
    "execute:\n",
    "    echo: true\n",
    "    eval: false\n",
    "    freeze: true\n",
    "---"
   ]
  },
  {
   "cell_type": "code",
   "execution_count": 32,
   "metadata": {},
   "outputs": [],
   "source": [
    "#| echo: False\n",
    "from IPython.core.interactiveshell import InteractiveShell\n",
    "InteractiveShell.ast_node_interactivity = \"all\""
   ]
  },
  {
   "cell_type": "markdown",
   "metadata": {},
   "source": [
    "TIL: In python, functions act as [descriptors](https://docs.python.org/3/howto/descriptor.html#functions-and-methods). \n",
    "When they are called from an instance, they get turned into \"bound method\", which automatically inserts the instance into the function as its first argument: `obj.f(*args)` call is transformed into `f(obj, *args)`. \n",
    "If they are called from a class, we get the function itself, and we need to provide all the arguments ourselves: Calling `cls.f(*args)` becomes `f(*args)`.\n",
    "\n",
    "In the following example, `A.func()` raises error because it expects one argument, while `A().func()` runs without a problem because `A()` is automatically inserted into the `func`."
   ]
  },
  {
   "cell_type": "code",
   "execution_count": 8,
   "metadata": {},
   "outputs": [
    {
     "ename": "TypeError",
     "evalue": "func() missing 1 required positional argument: 'self'",
     "output_type": "error",
     "traceback": [
      "\u001b[0;31m---------------------------------------------------------------------------\u001b[0m",
      "\u001b[0;31mTypeError\u001b[0m                                 Traceback (most recent call last)",
      "\u001b[0;32m/var/folders/vv/syvp2m7117s_1y8m9bwlj28m0000gq/T/ipykernel_61591/1654612476.py\u001b[0m in \u001b[0;36m<module>\u001b[0;34m\u001b[0m\n\u001b[1;32m      6\u001b[0m         \u001b[0;32mreturn\u001b[0m \u001b[0;36m1\u001b[0m\u001b[0;34m\u001b[0m\u001b[0;34m\u001b[0m\u001b[0m\n\u001b[1;32m      7\u001b[0m \u001b[0;34m\u001b[0m\u001b[0m\n\u001b[0;32m----> 8\u001b[0;31m \u001b[0mA\u001b[0m\u001b[0;34m.\u001b[0m\u001b[0mfunc\u001b[0m\u001b[0;34m(\u001b[0m\u001b[0;34m)\u001b[0m\u001b[0;34m\u001b[0m\u001b[0;34m\u001b[0m\u001b[0m\n\u001b[0m",
      "\u001b[0;31mTypeError\u001b[0m: func() missing 1 required positional argument: 'self'"
     ]
    }
   ],
   "source": [
    "class A:\n",
    "    def __init__(self):\n",
    "        pass\n",
    "\n",
    "    def func(self):\n",
    "        return 1\n",
    "\n",
    "A.func()"
   ]
  },
  {
   "cell_type": "code",
   "execution_count": 10,
   "metadata": {},
   "outputs": [
    {
     "data": {
      "text/plain": [
       "1"
      ]
     },
     "execution_count": 10,
     "metadata": {},
     "output_type": "execute_result"
    }
   ],
   "source": [
    "A().func()"
   ]
  },
  {
   "cell_type": "markdown",
   "metadata": {},
   "source": [
    "Because this behavior is associated with functions (those defined with `def`) themselves, we don't need to do anything different if we want to turn a function into a method. \n",
    "However we write them in the class definition, we can do the same thing here.\n",
    "\n",
    "Additionally, we can use `MethodType` to return a method that automatically inserts the object's class as the first argument, equivalent to using the `classmethod` decorator."
   ]
  },
  {
   "cell_type": "code",
   "execution_count": 23,
   "metadata": {},
   "outputs": [],
   "source": [
    "from types import MethodType\n",
    "\n",
    "class A:\n",
    "    x = 10\n",
    "\n",
    "    def __init__(self):\n",
    "        self.xx=100\n",
    "\n",
    "def func(cls):\n",
    "    return cls.x + 1\n",
    "\n",
    "def ins_func(self):\n",
    "    return self.xx + 1\n",
    "\n",
    "\n",
    "# Set a function as method\n",
    "setattr(A, 'func', ins_func)\n",
    "# Set a function as classmethod\n",
    "setattr(A, 'class_func1', MethodType(func, A))\n",
    "setattr(A, 'class_func2', classmethod(func))\n",
    "# Set a function as property\n",
    "setattr(A, 'property_func', property(ins_func))"
   ]
  },
  {
   "cell_type": "code",
   "execution_count": 37,
   "metadata": {},
   "outputs": [
    {
     "data": {
      "text/plain": [
       "11"
      ]
     },
     "execution_count": 37,
     "metadata": {},
     "output_type": "execute_result"
    },
    {
     "data": {
      "text/plain": [
       "11"
      ]
     },
     "execution_count": 37,
     "metadata": {},
     "output_type": "execute_result"
    },
    {
     "data": {
      "text/plain": [
       "11"
      ]
     },
     "execution_count": 37,
     "metadata": {},
     "output_type": "execute_result"
    },
    {
     "data": {
      "text/plain": [
       "11"
      ]
     },
     "execution_count": 37,
     "metadata": {},
     "output_type": "execute_result"
    }
   ],
   "source": [
    "A.class_func1()\n",
    "A.class_func2()\n",
    "A().class_func1()\n",
    "A().class_func2()"
   ]
  },
  {
   "cell_type": "code",
   "execution_count": 38,
   "metadata": {},
   "outputs": [
    {
     "data": {
      "text/plain": [
       "<bound method ins_func of <__main__.A object at 0x7f9f40b79b50>>"
      ]
     },
     "execution_count": 38,
     "metadata": {},
     "output_type": "execute_result"
    },
    {
     "data": {
      "text/plain": [
       "101"
      ]
     },
     "execution_count": 38,
     "metadata": {},
     "output_type": "execute_result"
    }
   ],
   "source": [
    "a = A()\n",
    "a.func\n",
    "a.func()"
   ]
  },
  {
   "cell_type": "code",
   "execution_count": 39,
   "metadata": {},
   "outputs": [
    {
     "data": {
      "text/plain": [
       "101"
      ]
     },
     "execution_count": 39,
     "metadata": {},
     "output_type": "execute_result"
    }
   ],
   "source": [
    "a.property_func"
   ]
  },
  {
   "cell_type": "markdown",
   "metadata": {},
   "source": [
    "{{< tweet curiosity_notes 1599553598110605312 >}}"
   ]
  },
  {
   "cell_type": "markdown",
   "metadata": {},
   "source": []
  }
 ],
 "metadata": {
  "kernelspec": {
   "display_name": "Python 3.7.7 ('py37')",
   "language": "python",
   "name": "python3"
  },
  "language_info": {
   "codemirror_mode": {
    "name": "ipython",
    "version": 3
   },
   "file_extension": ".py",
   "mimetype": "text/x-python",
   "name": "python",
   "nbconvert_exporter": "python",
   "pygments_lexer": "ipython3",
   "version": "3.7.7"
  },
  "orig_nbformat": 4,
  "vscode": {
   "interpreter": {
    "hash": "c219fd2dbeaa4e9535be7cfc7017bd293d39edc4e36f3c15c6a938a3af119eb1"
   }
  }
 },
 "nbformat": 4,
 "nbformat_minor": 2
}
