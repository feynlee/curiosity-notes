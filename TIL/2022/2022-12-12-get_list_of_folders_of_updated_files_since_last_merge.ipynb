{
 "cells": [
  {
   "cell_type": "markdown",
   "metadata": {},
   "source": [
    "---\n",
    "title: How to Get a List of Directories with Updated Files Since the Last Git Merge\n",
    "author: Ziyue Li\n",
    "categories:\n",
    "- Git\n",
    "- Linux\n",
    "date: 2022-12-12\n",
    "description: Using Linux commands to get a list of recently changed files and parse out the root directories.\n",
    "image: https://pbs.twimg.com/media/Fj0VIdtWYAA8zQ8?format=jpg&name=large\n",
    "layout: post\n",
    "execute:\n",
    "    echo: true\n",
    "    eval: false\n",
    "    freeze: true\n",
    "---"
   ]
  },
  {
   "cell_type": "markdown",
   "metadata": {},
   "source": [
    "It's as simple as the following:\n",
    "\n",
    "```sh\n",
    "folders=$(git diff --name-only HEAD@{1}..HEAD | awk -F/ '{print $1}' | uniq)\n",
    "```\n",
    "\n",
    "`git diff` gets all files that have changed, `awk -F/` parses out the directory name before the first `/`, and finally `uniq` returns a list of unique directory names."
   ]
  },
  {
   "cell_type": "markdown",
   "metadata": {},
   "source": [
    "{{< tweet curiosity_notes 1602461196719984640 >}}"
   ]
  }
 ],
 "metadata": {
  "language_info": {
   "name": "python"
  },
  "orig_nbformat": 4
 },
 "nbformat": 4,
 "nbformat_minor": 2
}
