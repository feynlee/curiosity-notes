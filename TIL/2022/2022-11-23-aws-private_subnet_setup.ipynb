{
 "cells": [
  {
   "cell_type": "markdown",
   "metadata": {},
   "source": [
    "---\n",
    "title: Access Internet from Private Subnet in VPC\n",
    "author: Ziyue Li\n",
    "categories:\n",
    "- AWS\n",
    "- Network\n",
    "date: 2022-11-23\n",
    "description: How to setup AWS VPC so we can access internet from the private subnet.\n",
    "image: images/VPC-access_internet_from_private_subnet.png \n",
    "layout: post\n",
    "execute:\n",
    "    echo: true\n",
    "    eval: false\n",
    "    freeze: true\n",
    "---"
   ]
  },
  {
   "cell_type": "markdown",
   "metadata": {},
   "source": [
    "![](images/VPC-access_internet_from_private_subnet.png){fig-align=\"center\"}"
   ]
  },
  {
   "cell_type": "markdown",
   "metadata": {},
   "source": [
    "I'm finally forced to learn the network configuration stuff in AWS VPC.\n",
    "The thing that was confusing me was the NAT Gateway.\n",
    "\n",
    "For a private subnet to access the internet, we route traffic from the private subnet through a NAT Gateway which keeps out all traffic initiated from the internet.\n",
    "This gateway needs to be in a public subnet, so that it can access the internet through the Internet Gateway.\n",
    "\n",
    "To route the traffic in this way, we need to make sure there's an entry in the route table for the public subnet to connect to the Internet Gateway, and there's an entry in the route table for the private subnet to connect to the NAT Gateway."
   ]
  },
  {
   "cell_type": "markdown",
   "metadata": {},
   "source": [
    "- **Step 1**: [Create VPC, Public and Private Subnets](https://docs.aws.amazon.com/vpc/latest/userguide/working-with-vpcs.html#create-vpc-and-other-resources)\n",
    "\n",
    "    Create public and private subnets for each availability zone. Make sure that the subnets don't overlap. For an explanation of subnets and CIDR notations:\n",
    "\n",
    "    {{< youtube s_Ntt6eTn94 >}}\n",
    "\n",
    "- **Step 2**: Create [Internet Gateway](https://docs.aws.amazon.com/vpc/latest/userguide/VPC_Internet_Gateway.html#Add_IGW_Attach_Gateway) and [NAT Gateway](https://docs.aws.amazon.com/vpc/latest/userguide/vpc-nat-gateway.html#nat-gateway-creating)\n",
    "\n",
    "    Make sure to create the NAT Gateway for each availability zone, and make sure they are created in the **public** subnets, select \"public\" connectivity type, and allocate an elastic IP Address.\n",
    "\n",
    "- **Step 3**: Create [Route Tables](https://docs.aws.amazon.com/vpc/latest/userguide/VPC_Route_Tables.html)\n",
    "\n",
    "    For each public subnet, create a route table, add an entry to connect to the internet gateway, and associate it to that subnet.\n",
    "\n",
    "    For each private subnet, create a route table, add an entry to connect to the NAT Gateway in the same availability zone, and associate it to that private subnet.\n",
    "\n",
    "- **Step 4**: Add access to AWS resources\n",
    "\n",
    "    If we want the subnets to have access to AWS services such as S3, we can [create an endpoint for AWS services](https://docs.aws.amazon.com/vpc/latest/privatelink/vpc-endpoints-s3.html#create-gateway-endpoint-s3), and associate that endpoint to the route tables we created above.\n",
    "\n",
    "- **Step 5**: Make Sure [Network ACL](https://docs.aws.amazon.com/vpc/latest/userguide/vpc-network-acls.html) and [Security Groups](https://docs.aws.amazon.com/vpc/latest/userguide/VPC_SecurityGroups.html) Don't Block the Internet Traffic\n",
    "\n",
    "    When selecting security groups to use for services launched in the private subnet, make sure it allows traffic from and to the NAT Gateway. \n",
    "    \n",
    "    **I was tripped up by this when setting up network connections for EMR Serverless.**"
   ]
  },
  {
   "cell_type": "markdown",
   "metadata": {},
   "source": [
    "{{< tweet curiosity_notes 1595508141554339882 >}}"
   ]
  },
  {
   "cell_type": "markdown",
   "metadata": {},
   "source": []
  }
 ],
 "metadata": {
  "kernelspec": {
   "display_name": "Python 3.7.7 ('py37')",
   "language": "python",
   "name": "python3"
  },
  "language_info": {
   "codemirror_mode": {
    "name": "ipython",
    "version": 3
   },
   "file_extension": ".py",
   "mimetype": "text/x-python",
   "name": "python",
   "nbconvert_exporter": "python",
   "pygments_lexer": "ipython3",
   "version": "3.7.7"
  },
  "orig_nbformat": 4,
  "vscode": {
   "interpreter": {
    "hash": "c219fd2dbeaa4e9535be7cfc7017bd293d39edc4e36f3c15c6a938a3af119eb1"
   }
  }
 },
 "nbformat": 4,
 "nbformat_minor": 2
}
