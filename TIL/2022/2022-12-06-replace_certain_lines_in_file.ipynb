{
 "cells": [
  {
   "cell_type": "markdown",
   "metadata": {},
   "source": [
    "---\n",
    "title: Replace Certain Lines in a Script Using Fileinput\n",
    "author: Ziyue Li\n",
    "categories:\n",
    "- Python\n",
    "date: 2022-12-06\n",
    "description: How to replace certain lines and overwrite a text file using Python's fileinput module.\n",
    "image: https://pbs.twimg.com/media/FjVgHFGXoAIDO6H?format=jpg&name=large \n",
    "layout: post\n",
    "execute:\n",
    "    echo: true\n",
    "    eval: false\n",
    "    freeze: true\n",
    "---"
   ]
  },
  {
   "cell_type": "markdown",
   "metadata": {},
   "source": [
    "If we are using a script written by someone else, and we want to modify certain lines of it before execution, we can use Python's `fileinput` module:\n",
    "\n",
    "```python\n",
    "import sys\n",
    "import fileinput\n",
    "\n",
    "with fileinput.input('test.py', \n",
    "                     backup='.bak', # the file is moved to a backup file  \n",
    "                     inplace=True   # and standard output is directed to the input file\n",
    "                     ) as f:\n",
    "    for line in f:\n",
    "        if line.strip().startswith('print'):\n",
    "            line = f'print(\"This is a new message\")'            \n",
    "        # lines that are written to stdout will be written to the file\n",
    "        sys.stdout.write(line)\n",
    "```\n",
    "\n",
    "When `inplace=True`, as in the above code, whatever's written to stdout, will be written to the file. \n",
    "You can also specify a backup file, as we did in the example."
   ]
  },
  {
   "cell_type": "markdown",
   "metadata": {},
   "source": [
    "{{< tweet curiosity_notes 1600291995913625602 >}}"
   ]
  },
  {
   "cell_type": "markdown",
   "metadata": {},
   "source": []
  }
 ],
 "metadata": {
  "kernelspec": {
   "display_name": "Python 3.7.7 ('py37')",
   "language": "python",
   "name": "python3"
  },
  "language_info": {
   "name": "python",
   "version": "3.7.7 (default, Mar 23 2020, 17:31:31) \n[Clang 4.0.1 (tags/RELEASE_401/final)]"
  },
  "orig_nbformat": 4,
  "vscode": {
   "interpreter": {
    "hash": "c219fd2dbeaa4e9535be7cfc7017bd293d39edc4e36f3c15c6a938a3af119eb1"
   }
  }
 },
 "nbformat": 4,
 "nbformat_minor": 2
}
