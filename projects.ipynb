{
  "cells": [
    {
      "cell_type": "code",
      "execution_count": 3,
      "id": "e8c5a721",
      "metadata": {},
      "outputs": [],
      "source": [
        "# | eval: false\n",
        "from pathlib import Path\n",
        "\n",
        "\n",
        "def rename_images(d):\n",
        "    d = Path(d)\n",
        "    # make tmp folder to hold renamed pics\n",
        "    tmp = d/\"tmp\"\n",
        "    tmp.mkdir(exist_ok=True, parents=True)\n",
        "    pics = sorted([pic for pic in d.iterdir() if pic.is_file()\n",
        "                   and pic.name.lower().endswith('.png')])\n",
        "\n",
        "    # rename pics\n",
        "    for i, pic in enumerate(pics):\n",
        "        filename = f'{d.name}-{i}.png'\n",
        "        new_path = f'{str(tmp)}/{filename}'\n",
        "        pic.rename(new_path)\n",
        "\n",
        "    # move pics out of tmp\n",
        "    for pic in tmp.iterdir():\n",
        "        new_path = str(pic).replace('tmp/', '')\n",
        "        pic.rename(new_path)\n",
        "\n",
        "    # remove tmp folder\n",
        "    tmp.rmdir()\n",
        "\n",
        "\n"
      ]
    },
    {
      "cell_type": "code",
      "execution_count": 7,
      "id": "ddcd358d",
      "metadata": {},
      "outputs": [],
      "source": [
        "d = 'Projects/images/dreambooth/arcane_style'\n",
        "rename_images(d)"
      ]
    },
    {
      "cell_type": "code",
      "execution_count": null,
      "id": "d4cf8b4a",
      "metadata": {},
      "outputs": [],
      "source": []
    }
  ],
  "metadata": {
    "kernelspec": {
      "display_name": "py37",
      "language": "python",
      "name": "py37"
    },
    "language_info": {
      "codemirror_mode": {
        "name": "ipython",
        "version": 3
      },
      "file_extension": ".py",
      "mimetype": "text/x-python",
      "name": "python",
      "nbconvert_exporter": "python",
      "pygments_lexer": "ipython3",
      "version": "3.7.7"
    }
  },
  "nbformat": 4,
  "nbformat_minor": 5
}
